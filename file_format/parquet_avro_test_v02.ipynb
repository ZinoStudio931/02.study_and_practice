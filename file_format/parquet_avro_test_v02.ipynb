{
 "cells": [
  {
   "cell_type": "markdown",
   "metadata": {},
   "source": [
    "* References \n",
    "1. [Reading and Writing the Apache Parquet Format(Aparch Arrow Documentation|)](https://arrow.apache.org/docs/python/parquet.html)"
   ]
  },
  {
   "cell_type": "code",
   "execution_count": 1,
   "metadata": {},
   "outputs": [
    {
     "name": "stdout",
     "output_type": "stream",
     "text": [
      "Requirement already satisfied: pyarrow in c:\\users\\seoun\\anaconda3\\lib\\site-packages (1.0.0)\n",
      "Requirement already satisfied: numpy>=1.14 in c:\\users\\seoun\\anaconda3\\lib\\site-packages (from pyarrow) (1.19.2)\n"
     ]
    },
    {
     "name": "stderr",
     "output_type": "stream",
     "text": [
      "WARNING: You are using pip version 21.2.4; however, version 22.1.2 is available.\n",
      "You should consider upgrading via the 'C:\\Users\\seoun\\anaconda3\\python.exe -m pip install --upgrade pip' command.\n"
     ]
    }
   ],
   "source": [
    "# requisite\n",
    "!pip install pyarrow"
   ]
  },
  {
   "cell_type": "markdown",
   "metadata": {},
   "source": [
    "# parguet, avro, csv comparative test "
   ]
  },
  {
   "cell_type": "code",
   "execution_count": 2,
   "metadata": {},
   "outputs": [],
   "source": [
    "# make dataset for comparison\n",
    "from sklearn.datasets import make_classification\n",
    "import pandas as pd \n",
    "\n",
    "n_samples = int(1e+6)\n",
    "num_X = 29\n",
    "\n",
    "X, y = make_classification(\n",
    "    n_samples=n_samples, \n",
    "    n_features=num_X    \n",
    ")\n",
    "\n",
    "df = pd.DataFrame(X, columns=[f\"col_{int(i+1)}\" for i in range(num_X)])\n",
    "df['y'] = y"
   ]
  },
  {
   "cell_type": "code",
   "execution_count": 3,
   "metadata": {},
   "outputs": [
    {
     "data": {
      "text/html": [
       "<div>\n",
       "<style scoped>\n",
       "    .dataframe tbody tr th:only-of-type {\n",
       "        vertical-align: middle;\n",
       "    }\n",
       "\n",
       "    .dataframe tbody tr th {\n",
       "        vertical-align: top;\n",
       "    }\n",
       "\n",
       "    .dataframe thead th {\n",
       "        text-align: right;\n",
       "    }\n",
       "</style>\n",
       "<table border=\"1\" class=\"dataframe\">\n",
       "  <thead>\n",
       "    <tr style=\"text-align: right;\">\n",
       "      <th></th>\n",
       "      <th>col_1</th>\n",
       "      <th>col_2</th>\n",
       "      <th>col_3</th>\n",
       "      <th>col_4</th>\n",
       "      <th>col_5</th>\n",
       "      <th>col_6</th>\n",
       "      <th>col_7</th>\n",
       "      <th>col_8</th>\n",
       "      <th>col_9</th>\n",
       "      <th>col_10</th>\n",
       "      <th>...</th>\n",
       "      <th>col_21</th>\n",
       "      <th>col_22</th>\n",
       "      <th>col_23</th>\n",
       "      <th>col_24</th>\n",
       "      <th>col_25</th>\n",
       "      <th>col_26</th>\n",
       "      <th>col_27</th>\n",
       "      <th>col_28</th>\n",
       "      <th>col_29</th>\n",
       "      <th>y</th>\n",
       "    </tr>\n",
       "  </thead>\n",
       "  <tbody>\n",
       "    <tr>\n",
       "      <th>0</th>\n",
       "      <td>-2.269917</td>\n",
       "      <td>-0.548390</td>\n",
       "      <td>-1.304414</td>\n",
       "      <td>-0.803364</td>\n",
       "      <td>0.389434</td>\n",
       "      <td>0.061894</td>\n",
       "      <td>0.371249</td>\n",
       "      <td>0.780031</td>\n",
       "      <td>1.505127</td>\n",
       "      <td>-0.164102</td>\n",
       "      <td>...</td>\n",
       "      <td>-0.788797</td>\n",
       "      <td>1.158041</td>\n",
       "      <td>1.879119</td>\n",
       "      <td>0.555265</td>\n",
       "      <td>1.223207</td>\n",
       "      <td>-0.997294</td>\n",
       "      <td>-0.161569</td>\n",
       "      <td>0.998925</td>\n",
       "      <td>-1.299078</td>\n",
       "      <td>1</td>\n",
       "    </tr>\n",
       "    <tr>\n",
       "      <th>1</th>\n",
       "      <td>-1.277575</td>\n",
       "      <td>-1.199441</td>\n",
       "      <td>1.101118</td>\n",
       "      <td>1.698404</td>\n",
       "      <td>-0.385637</td>\n",
       "      <td>0.546726</td>\n",
       "      <td>-0.178638</td>\n",
       "      <td>-0.054332</td>\n",
       "      <td>0.878290</td>\n",
       "      <td>3.624857</td>\n",
       "      <td>...</td>\n",
       "      <td>0.679446</td>\n",
       "      <td>-0.916311</td>\n",
       "      <td>1.883561</td>\n",
       "      <td>-0.568607</td>\n",
       "      <td>-0.004924</td>\n",
       "      <td>-0.455516</td>\n",
       "      <td>-0.697243</td>\n",
       "      <td>-0.224506</td>\n",
       "      <td>-0.419221</td>\n",
       "      <td>1</td>\n",
       "    </tr>\n",
       "    <tr>\n",
       "      <th>2</th>\n",
       "      <td>-0.197409</td>\n",
       "      <td>0.905835</td>\n",
       "      <td>-0.118557</td>\n",
       "      <td>-0.018829</td>\n",
       "      <td>-1.294973</td>\n",
       "      <td>0.015264</td>\n",
       "      <td>0.910070</td>\n",
       "      <td>-0.923833</td>\n",
       "      <td>1.318269</td>\n",
       "      <td>0.910617</td>\n",
       "      <td>...</td>\n",
       "      <td>0.340163</td>\n",
       "      <td>0.499457</td>\n",
       "      <td>-0.868820</td>\n",
       "      <td>1.445217</td>\n",
       "      <td>-0.573818</td>\n",
       "      <td>-0.384927</td>\n",
       "      <td>1.235920</td>\n",
       "      <td>-1.161241</td>\n",
       "      <td>0.114517</td>\n",
       "      <td>0</td>\n",
       "    </tr>\n",
       "    <tr>\n",
       "      <th>3</th>\n",
       "      <td>-0.438786</td>\n",
       "      <td>0.895868</td>\n",
       "      <td>1.703515</td>\n",
       "      <td>-1.187641</td>\n",
       "      <td>0.352891</td>\n",
       "      <td>0.911864</td>\n",
       "      <td>-0.329896</td>\n",
       "      <td>0.828690</td>\n",
       "      <td>-0.121513</td>\n",
       "      <td>1.824285</td>\n",
       "      <td>...</td>\n",
       "      <td>-0.560867</td>\n",
       "      <td>0.211777</td>\n",
       "      <td>-1.051707</td>\n",
       "      <td>-0.006396</td>\n",
       "      <td>0.681823</td>\n",
       "      <td>0.125102</td>\n",
       "      <td>1.079078</td>\n",
       "      <td>-0.921679</td>\n",
       "      <td>-1.625561</td>\n",
       "      <td>0</td>\n",
       "    </tr>\n",
       "    <tr>\n",
       "      <th>4</th>\n",
       "      <td>-0.096392</td>\n",
       "      <td>-1.178414</td>\n",
       "      <td>-1.564027</td>\n",
       "      <td>-0.036047</td>\n",
       "      <td>-1.258260</td>\n",
       "      <td>0.290279</td>\n",
       "      <td>0.069543</td>\n",
       "      <td>0.985999</td>\n",
       "      <td>0.741983</td>\n",
       "      <td>0.759746</td>\n",
       "      <td>...</td>\n",
       "      <td>-0.944363</td>\n",
       "      <td>1.120809</td>\n",
       "      <td>-1.273784</td>\n",
       "      <td>-0.321723</td>\n",
       "      <td>0.783448</td>\n",
       "      <td>-0.533004</td>\n",
       "      <td>-0.366465</td>\n",
       "      <td>0.277151</td>\n",
       "      <td>1.053440</td>\n",
       "      <td>1</td>\n",
       "    </tr>\n",
       "    <tr>\n",
       "      <th>...</th>\n",
       "      <td>...</td>\n",
       "      <td>...</td>\n",
       "      <td>...</td>\n",
       "      <td>...</td>\n",
       "      <td>...</td>\n",
       "      <td>...</td>\n",
       "      <td>...</td>\n",
       "      <td>...</td>\n",
       "      <td>...</td>\n",
       "      <td>...</td>\n",
       "      <td>...</td>\n",
       "      <td>...</td>\n",
       "      <td>...</td>\n",
       "      <td>...</td>\n",
       "      <td>...</td>\n",
       "      <td>...</td>\n",
       "      <td>...</td>\n",
       "      <td>...</td>\n",
       "      <td>...</td>\n",
       "      <td>...</td>\n",
       "      <td>...</td>\n",
       "    </tr>\n",
       "    <tr>\n",
       "      <th>999995</th>\n",
       "      <td>0.501364</td>\n",
       "      <td>0.466687</td>\n",
       "      <td>0.978387</td>\n",
       "      <td>0.290811</td>\n",
       "      <td>0.408511</td>\n",
       "      <td>0.831120</td>\n",
       "      <td>0.195551</td>\n",
       "      <td>-0.587097</td>\n",
       "      <td>1.176899</td>\n",
       "      <td>1.162911</td>\n",
       "      <td>...</td>\n",
       "      <td>1.741641</td>\n",
       "      <td>0.984381</td>\n",
       "      <td>0.507181</td>\n",
       "      <td>0.432752</td>\n",
       "      <td>1.984266</td>\n",
       "      <td>-0.467804</td>\n",
       "      <td>-0.108557</td>\n",
       "      <td>0.133221</td>\n",
       "      <td>0.495939</td>\n",
       "      <td>1</td>\n",
       "    </tr>\n",
       "    <tr>\n",
       "      <th>999996</th>\n",
       "      <td>0.773677</td>\n",
       "      <td>0.485538</td>\n",
       "      <td>-1.742684</td>\n",
       "      <td>-0.113992</td>\n",
       "      <td>-0.191080</td>\n",
       "      <td>0.247876</td>\n",
       "      <td>-0.199901</td>\n",
       "      <td>0.801454</td>\n",
       "      <td>-1.198073</td>\n",
       "      <td>0.451386</td>\n",
       "      <td>...</td>\n",
       "      <td>-1.015265</td>\n",
       "      <td>1.995838</td>\n",
       "      <td>-0.102721</td>\n",
       "      <td>1.227792</td>\n",
       "      <td>0.262236</td>\n",
       "      <td>-0.347495</td>\n",
       "      <td>-0.619685</td>\n",
       "      <td>-0.985195</td>\n",
       "      <td>-0.347435</td>\n",
       "      <td>1</td>\n",
       "    </tr>\n",
       "    <tr>\n",
       "      <th>999997</th>\n",
       "      <td>-0.360279</td>\n",
       "      <td>1.766277</td>\n",
       "      <td>-1.091394</td>\n",
       "      <td>0.752158</td>\n",
       "      <td>0.745229</td>\n",
       "      <td>-0.968460</td>\n",
       "      <td>-0.240746</td>\n",
       "      <td>-0.966334</td>\n",
       "      <td>0.615075</td>\n",
       "      <td>0.241806</td>\n",
       "      <td>...</td>\n",
       "      <td>0.124188</td>\n",
       "      <td>-0.878545</td>\n",
       "      <td>-0.875173</td>\n",
       "      <td>0.280072</td>\n",
       "      <td>0.116220</td>\n",
       "      <td>-0.148509</td>\n",
       "      <td>0.706903</td>\n",
       "      <td>0.997562</td>\n",
       "      <td>-1.407469</td>\n",
       "      <td>1</td>\n",
       "    </tr>\n",
       "    <tr>\n",
       "      <th>999998</th>\n",
       "      <td>-0.173365</td>\n",
       "      <td>-0.203906</td>\n",
       "      <td>-1.157908</td>\n",
       "      <td>0.702131</td>\n",
       "      <td>-0.899072</td>\n",
       "      <td>-0.772750</td>\n",
       "      <td>-0.499171</td>\n",
       "      <td>1.548589</td>\n",
       "      <td>-0.189970</td>\n",
       "      <td>0.999821</td>\n",
       "      <td>...</td>\n",
       "      <td>0.534505</td>\n",
       "      <td>1.107877</td>\n",
       "      <td>0.263203</td>\n",
       "      <td>0.446082</td>\n",
       "      <td>-0.141998</td>\n",
       "      <td>0.085071</td>\n",
       "      <td>-1.017549</td>\n",
       "      <td>-1.655263</td>\n",
       "      <td>0.152282</td>\n",
       "      <td>0</td>\n",
       "    </tr>\n",
       "    <tr>\n",
       "      <th>999999</th>\n",
       "      <td>0.403492</td>\n",
       "      <td>0.306513</td>\n",
       "      <td>0.424682</td>\n",
       "      <td>1.280590</td>\n",
       "      <td>-0.308888</td>\n",
       "      <td>1.236263</td>\n",
       "      <td>-0.289165</td>\n",
       "      <td>-0.011958</td>\n",
       "      <td>-1.430605</td>\n",
       "      <td>-0.652769</td>\n",
       "      <td>...</td>\n",
       "      <td>0.203592</td>\n",
       "      <td>-0.309101</td>\n",
       "      <td>-0.032288</td>\n",
       "      <td>-0.804326</td>\n",
       "      <td>-0.491892</td>\n",
       "      <td>-0.409918</td>\n",
       "      <td>1.503737</td>\n",
       "      <td>0.044938</td>\n",
       "      <td>-0.125359</td>\n",
       "      <td>0</td>\n",
       "    </tr>\n",
       "  </tbody>\n",
       "</table>\n",
       "<p>1000000 rows × 30 columns</p>\n",
       "</div>"
      ],
      "text/plain": [
       "           col_1     col_2     col_3     col_4     col_5     col_6     col_7  \\\n",
       "0      -2.269917 -0.548390 -1.304414 -0.803364  0.389434  0.061894  0.371249   \n",
       "1      -1.277575 -1.199441  1.101118  1.698404 -0.385637  0.546726 -0.178638   \n",
       "2      -0.197409  0.905835 -0.118557 -0.018829 -1.294973  0.015264  0.910070   \n",
       "3      -0.438786  0.895868  1.703515 -1.187641  0.352891  0.911864 -0.329896   \n",
       "4      -0.096392 -1.178414 -1.564027 -0.036047 -1.258260  0.290279  0.069543   \n",
       "...          ...       ...       ...       ...       ...       ...       ...   \n",
       "999995  0.501364  0.466687  0.978387  0.290811  0.408511  0.831120  0.195551   \n",
       "999996  0.773677  0.485538 -1.742684 -0.113992 -0.191080  0.247876 -0.199901   \n",
       "999997 -0.360279  1.766277 -1.091394  0.752158  0.745229 -0.968460 -0.240746   \n",
       "999998 -0.173365 -0.203906 -1.157908  0.702131 -0.899072 -0.772750 -0.499171   \n",
       "999999  0.403492  0.306513  0.424682  1.280590 -0.308888  1.236263 -0.289165   \n",
       "\n",
       "           col_8     col_9    col_10  ...    col_21    col_22    col_23  \\\n",
       "0       0.780031  1.505127 -0.164102  ... -0.788797  1.158041  1.879119   \n",
       "1      -0.054332  0.878290  3.624857  ...  0.679446 -0.916311  1.883561   \n",
       "2      -0.923833  1.318269  0.910617  ...  0.340163  0.499457 -0.868820   \n",
       "3       0.828690 -0.121513  1.824285  ... -0.560867  0.211777 -1.051707   \n",
       "4       0.985999  0.741983  0.759746  ... -0.944363  1.120809 -1.273784   \n",
       "...          ...       ...       ...  ...       ...       ...       ...   \n",
       "999995 -0.587097  1.176899  1.162911  ...  1.741641  0.984381  0.507181   \n",
       "999996  0.801454 -1.198073  0.451386  ... -1.015265  1.995838 -0.102721   \n",
       "999997 -0.966334  0.615075  0.241806  ...  0.124188 -0.878545 -0.875173   \n",
       "999998  1.548589 -0.189970  0.999821  ...  0.534505  1.107877  0.263203   \n",
       "999999 -0.011958 -1.430605 -0.652769  ...  0.203592 -0.309101 -0.032288   \n",
       "\n",
       "          col_24    col_25    col_26    col_27    col_28    col_29  y  \n",
       "0       0.555265  1.223207 -0.997294 -0.161569  0.998925 -1.299078  1  \n",
       "1      -0.568607 -0.004924 -0.455516 -0.697243 -0.224506 -0.419221  1  \n",
       "2       1.445217 -0.573818 -0.384927  1.235920 -1.161241  0.114517  0  \n",
       "3      -0.006396  0.681823  0.125102  1.079078 -0.921679 -1.625561  0  \n",
       "4      -0.321723  0.783448 -0.533004 -0.366465  0.277151  1.053440  1  \n",
       "...          ...       ...       ...       ...       ...       ... ..  \n",
       "999995  0.432752  1.984266 -0.467804 -0.108557  0.133221  0.495939  1  \n",
       "999996  1.227792  0.262236 -0.347495 -0.619685 -0.985195 -0.347435  1  \n",
       "999997  0.280072  0.116220 -0.148509  0.706903  0.997562 -1.407469  1  \n",
       "999998  0.446082 -0.141998  0.085071 -1.017549 -1.655263  0.152282  0  \n",
       "999999 -0.804326 -0.491892 -0.409918  1.503737  0.044938 -0.125359  0  \n",
       "\n",
       "[1000000 rows x 30 columns]"
      ]
     },
     "execution_count": 3,
     "metadata": {},
     "output_type": "execute_result"
    }
   ],
   "source": [
    "df"
   ]
  },
  {
   "cell_type": "code",
   "execution_count": 4,
   "metadata": {},
   "outputs": [],
   "source": [
    "# Write pd.DataFrame to Parquet, csv format \n",
    "import pyarrow as pa\n",
    "import pyarrow.parquet as pq\n",
    "\n",
    "# to csv\n",
    "df.to_csv('example.csv')\n",
    "\n",
    "# to parquet\n",
    "table = pa.Table.from_pandas(df)    # Convert pd.DataFrame to parquet format\n",
    "pa.parquet.write_table(table, 'example.parquet')    # Write pd.DataFrame to Parquet format "
   ]
  },
  {
   "cell_type": "markdown",
   "metadata": {},
   "source": [
    "## 01. Read test"
   ]
  },
  {
   "cell_type": "markdown",
   "metadata": {},
   "source": [
    "* Whole data"
   ]
  },
  {
   "cell_type": "code",
   "execution_count": 5,
   "metadata": {},
   "outputs": [
    {
     "name": "stdout",
     "output_type": "stream",
     "text": [
      "11.7 s ± 150 ms per loop (mean ± std. dev. of 7 runs, 1 loop each)\n"
     ]
    }
   ],
   "source": [
    "%%timeit \n",
    "pd.read_csv('example.csv', index_col=0)"
   ]
  },
  {
   "cell_type": "code",
   "execution_count": 6,
   "metadata": {},
   "outputs": [
    {
     "name": "stdout",
     "output_type": "stream",
     "text": [
      "498 ms ± 53.8 ms per loop (mean ± std. dev. of 7 runs, 1 loop each)\n"
     ]
    }
   ],
   "source": [
    "%%timeit \n",
    "pq.read_table('example.parquet').to_pandas()"
   ]
  },
  {
   "cell_type": "code",
   "execution_count": 7,
   "metadata": {},
   "outputs": [
    {
     "name": "stdout",
     "output_type": "stream",
     "text": [
      "489 ms ± 16.7 ms per loop (mean ± std. dev. of 7 runs, 1 loop each)\n"
     ]
    }
   ],
   "source": [
    "%%timeit\n",
    "pd.read_parquet('example.parquet')"
   ]
  },
  {
   "cell_type": "markdown",
   "metadata": {},
   "source": [
    "* With selected columns "
   ]
  },
  {
   "cell_type": "code",
   "execution_count": 8,
   "metadata": {},
   "outputs": [
    {
     "name": "stdout",
     "output_type": "stream",
     "text": [
      "5.23 s ± 53.7 ms per loop (mean ± std. dev. of 7 runs, 1 loop each)\n"
     ]
    }
   ],
   "source": [
    "%%timeit \n",
    "pd.read_csv('example.csv', usecols=['col_1', 'col_5', 'col_10', 'y'])"
   ]
  },
  {
   "cell_type": "code",
   "execution_count": 9,
   "metadata": {},
   "outputs": [
    {
     "name": "stdout",
     "output_type": "stream",
     "text": [
      "57.9 ms ± 1.74 ms per loop (mean ± std. dev. of 7 runs, 10 loops each)\n"
     ]
    }
   ],
   "source": [
    "%%timeit \n",
    "pq.read_table('example.parquet', columns=['col_1', 'col_5', 'col_10', 'y']).to_pandas()"
   ]
  },
  {
   "cell_type": "code",
   "execution_count": 10,
   "metadata": {},
   "outputs": [
    {
     "name": "stdout",
     "output_type": "stream",
     "text": [
      "61.6 ms ± 1.33 ms per loop (mean ± std. dev. of 7 runs, 10 loops each)\n"
     ]
    }
   ],
   "source": [
    "%%timeit\n",
    "pd.read_parquet('example.parquet', columns=['col_1', 'col_5', 'col_10', 'y'])"
   ]
  }
 ],
 "metadata": {
  "kernelspec": {
   "display_name": "Python 3",
   "language": "python",
   "name": "python3"
  },
  "language_info": {
   "codemirror_mode": {
    "name": "ipython",
    "version": 3
   },
   "file_extension": ".py",
   "mimetype": "text/x-python",
   "name": "python",
   "nbconvert_exporter": "python",
   "pygments_lexer": "ipython3",
   "version": "3.8.5"
  }
 },
 "nbformat": 4,
 "nbformat_minor": 4
}
